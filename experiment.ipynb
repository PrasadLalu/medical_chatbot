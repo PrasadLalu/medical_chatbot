{
 "cells": [
  {
   "cell_type": "code",
   "execution_count": 1,
   "id": "a3b0312d",
   "metadata": {},
   "outputs": [],
   "source": [
    "from dotenv import load_dotenv\n",
    "load_dotenv()\n",
    "import os"
   ]
  },
  {
   "cell_type": "code",
   "execution_count": 8,
   "id": "2a8bf828",
   "metadata": {},
   "outputs": [
    {
     "name": "stdout",
     "output_type": "stream",
     "text": [
      "tenant cf0a5f5b-8e3f-49a8-8c92-4e7d332bb150\n",
      "database Sandbox\n"
     ]
    }
   ],
   "source": [
    "print(\"tenant\", os.getenv(\"CHROMA_TENANT\"))\n",
    "print(\"database\", os.getenv(\"CHROMA_DATABASE\"))"
   ]
  },
  {
   "cell_type": "code",
   "execution_count": null,
   "id": "7cc0eb6c",
   "metadata": {},
   "outputs": [],
   "source": []
  },
  {
   "cell_type": "code",
   "execution_count": 3,
   "id": "83d78494",
   "metadata": {},
   "outputs": [],
   "source": [
    "import chromadb\n",
    "  \n",
    "client = chromadb.CloudClient(\n",
    "  api_key='ck-5C4xU7D18b6Yw8FwMD72aaSaB8oedkcbL9GHPtJedw9B',\n",
    "  tenant='cf0a5f5b-8e3f-49a8-8c92-4e7d332bb150',\n",
    "  database='Medical_Chatbot'\n",
    ")"
   ]
  },
  {
   "cell_type": "code",
   "execution_count": 4,
   "id": "e1549c39",
   "metadata": {},
   "outputs": [
    {
     "data": {
      "text/plain": [
       "<chromadb.api.client.Client at 0x19f147fae40>"
      ]
     },
     "execution_count": 4,
     "metadata": {},
     "output_type": "execute_result"
    }
   ],
   "source": [
    "client"
   ]
  },
  {
   "cell_type": "code",
   "execution_count": 5,
   "id": "6e4f4469",
   "metadata": {},
   "outputs": [],
   "source": [
    "def get_chat_model(api_key: str = None):\n",
    "    \"\"\"Get chat model configuration for self-hosted LLM\"\"\"\n",
    "    return {\n",
    "        'model': \"gpt-4o-mini\",\n",
    "        'temperature': 0,\n",
    "        'api_base': \"https://api.euron.one/api/v1/euri/chat\",\n",
    "        'api_key': \"euri-a2290e4db449e3a19d9d4eac1cbb980ff518e9d49e5cb76eaa3b88ed33da8564\"\n",
    "    }"
   ]
  },
  {
   "cell_type": "code",
   "execution_count": 6,
   "id": "9d9d6b7a",
   "metadata": {},
   "outputs": [
    {
     "data": {
      "text/plain": [
       "{'model': 'gpt-4o-mini',\n",
       " 'temperature': 0,\n",
       " 'api_base': 'https://api.euron.one/api/v1/euri/chat',\n",
       " 'api_key': 'euri-a2290e4db449e3a19d9d4eac1cbb980ff518e9d49e5cb76eaa3b88ed33da8564'}"
      ]
     },
     "execution_count": 6,
     "metadata": {},
     "output_type": "execute_result"
    }
   ],
   "source": [
    "get_chat_model()"
   ]
  },
  {
   "cell_type": "code",
   "execution_count": 11,
   "id": "693d30cc",
   "metadata": {},
   "outputs": [
    {
     "data": {
      "text/plain": [
       "'euri-a2290e4db449e3a19d9d4eac1cbb980ff518e9d49e5cb76eaa3b88ed33da8564'"
      ]
     },
     "execution_count": 11,
     "metadata": {},
     "output_type": "execute_result"
    }
   ],
   "source": [
    "os.getenv(\"OPENAI_API_KEY\")"
   ]
  },
  {
   "cell_type": "code",
   "execution_count": 1,
   "id": "b60fce7e",
   "metadata": {},
   "outputs": [],
   "source": [
    "import os\n",
    "import openai\n",
    "from dotenv import load_dotenv\n",
    "load_dotenv()\n",
    "\n",
    "openai.api_base = \"https://api.openai.com/v1\"\n",
    "openai.api_key = os.getenv(\"OPENAI_API_KEY\")\n",
    "\n",
    "prompt = \"Hi\"\n",
    "\n",
    "response = openai.ChatCompletion.create(\n",
    "    model=\"gpt-4o-mini\",\n",
    "    temperature=0,\n",
    "    stream=False,\n",
    "    messages=[{\"role\": \"user\", \"content\": prompt}],\n",
    ")"
   ]
  },
  {
   "cell_type": "code",
   "execution_count": 2,
   "id": "aeb364bf",
   "metadata": {},
   "outputs": [
    {
     "data": {
      "text/plain": [
       "<OpenAIObject chat.completion id=chatcmpl-CD9U07YEb7pZE6OCEY6199L8NmUS3 at 0x1e64852b2f0> JSON: {\n",
       "  \"id\": \"chatcmpl-CD9U07YEb7pZE6OCEY6199L8NmUS3\",\n",
       "  \"object\": \"chat.completion\",\n",
       "  \"created\": 1757250752,\n",
       "  \"model\": \"gpt-4o-mini-2024-07-18\",\n",
       "  \"choices\": [\n",
       "    {\n",
       "      \"index\": 0,\n",
       "      \"message\": {\n",
       "        \"role\": \"assistant\",\n",
       "        \"content\": \"Hello! How can I assist you today?\",\n",
       "        \"refusal\": null,\n",
       "        \"annotations\": []\n",
       "      },\n",
       "      \"logprobs\": null,\n",
       "      \"finish_reason\": \"stop\"\n",
       "    }\n",
       "  ],\n",
       "  \"usage\": {\n",
       "    \"prompt_tokens\": 8,\n",
       "    \"completion_tokens\": 9,\n",
       "    \"total_tokens\": 17,\n",
       "    \"prompt_tokens_details\": {\n",
       "      \"cached_tokens\": 0,\n",
       "      \"audio_tokens\": 0\n",
       "    },\n",
       "    \"completion_tokens_details\": {\n",
       "      \"reasoning_tokens\": 0,\n",
       "      \"audio_tokens\": 0,\n",
       "      \"accepted_prediction_tokens\": 0,\n",
       "      \"rejected_prediction_tokens\": 0\n",
       "    }\n",
       "  },\n",
       "  \"service_tier\": \"default\",\n",
       "  \"system_fingerprint\": \"fp_8bda4d3a2c\"\n",
       "}"
      ]
     },
     "execution_count": 2,
     "metadata": {},
     "output_type": "execute_result"
    }
   ],
   "source": [
    "response"
   ]
  },
  {
   "cell_type": "code",
   "execution_count": null,
   "id": "4a8ddf7f",
   "metadata": {},
   "outputs": [],
   "source": []
  }
 ],
 "metadata": {
  "kernelspec": {
   "display_name": ".venv (3.12.11)",
   "language": "python",
   "name": "python3"
  },
  "language_info": {
   "codemirror_mode": {
    "name": "ipython",
    "version": 3
   },
   "file_extension": ".py",
   "mimetype": "text/x-python",
   "name": "python",
   "nbconvert_exporter": "python",
   "pygments_lexer": "ipython3",
   "version": "3.12.11"
  }
 },
 "nbformat": 4,
 "nbformat_minor": 5
}
